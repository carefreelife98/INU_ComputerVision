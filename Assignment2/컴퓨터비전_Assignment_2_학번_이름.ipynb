{
  "nbformat": 4,
  "nbformat_minor": 0,
  "metadata": {
    "colab": {
      "provenance": []
    },
    "kernelspec": {
      "name": "python3",
      "display_name": "Python 3"
    },
    "language_info": {
      "name": "python"
    }
  },
  "cells": [
    {
      "cell_type": "markdown",
      "source": [
        "# [Computer Vision] Assignment #2\n",
        "\n",
        "본 과제의 목적은 k-means clsutering 구현을 목표로 함.\n",
        "\n",
        "* k-means clustering은 비지도학습의 한 종류로써, 사전에 정의된 클러스터 갯수 K와 초기값에 의해 데이터의 cluster 할당을 반복적으로 업데이트하는 알고리즘임.\n",
        "* k-means clsutering 을 from scratch 로 구현하고, scikit-learn 의 결과와 비교함.\n",
        "* 구현에 필요한 코드, 패키지, 파라미터, 함수 등을 skeleton code에 추가하여 사용 가능함.\n",
        "* max_iterations 변화에 따른 clsutering 결과 양상 변화 확인\n",
        "* tolerance 변화에 따른 clustering 결과 양상 변화 확인"
      ],
      "metadata": {
        "id": "LREAWVICpfNB"
      }
    },
    {
      "cell_type": "markdown",
      "source": [
        "## 1. K-means clustering from scratch (40 points)"
      ],
      "metadata": {
        "id": "A0fRlg6cp1zS"
      }
    },
    {
      "cell_type": "code",
      "source": [
        "import pandas as pd\n",
        "import numpy as np\n",
        "import random as rd\n",
        "import matplotlib.pyplot as plt\n",
        "import math\n",
        "\n",
        "class K_Means:\n",
        "    # 클래스 생성자 구현 (2 points)\n",
        "    # k: cluster 의 수\n",
        "    # tolerance: 허용오차\n",
        "    # (t-1 번째 clsuter centers 와 t 번째 clsuter centers 사이의 Euclidean 거리;\n",
        "    # 해당 값 이하에서 iteration 중단)\n",
        "    # max_iterations: 최대 iteration 횟수\n",
        "    # 추가적으로 필요한 파라미터 자유롭게 설정\n",
        "    def __init__(self, k=2, tolerance = 0.001, max_iterations = 500):\n",
        "\n",
        "\n",
        "    # 거리 함수 구현 (3 points)\n",
        "    # 두 벡터를 받아, Euclidean 거리를 리턴\n",
        "    def euclidean_distance(self, point1, point2):\n",
        "\n",
        "        return\n",
        "\n",
        "\n",
        "    # fitting 함수 구현\n",
        "    # E-step 과 M-step 을 반복하며 cluster centers를 찾는 과정\n",
        "    def fit(self, data):\n",
        "        # cluster centers 초기화 (5 points)\n",
        "        # 각자의 방식으로 cluster centers 할당\n",
        "        # (예. 특정 데이터 포인트, 랜덤 등)\n",
        "\n",
        "\n",
        "        # max_iterations 까지 반복\n",
        "        for i in range(self.max_iterations):\n",
        "\n",
        "\n",
        "            # E-step 구현 (5 points)\n",
        "            # 모든 데이터에 대해 cluster centers 와의 거리를 비교하고 가장 가까운 center로 label 할당\n",
        "\n",
        "\n",
        "            # M-step 구현 (5 points)\n",
        "            # t-1 번째 cluster centers를 저장해두고,\n",
        "            # E-step에서 할당된 label을 이용하여 새롭게 cluster centers를 갱신\n",
        "\n",
        "\n",
        "            # 수렴 확인 (5 points)\n",
        "            # 새롭게 갱신된 cluster centers에 대해,\n",
        "            # 이전의 cluster centers와의 Euclidean 거리를 비교하여\n",
        "            # tolerance 보다 작은 경우 알고리즘을 마침\n",
        "            # 그렇지 않으면 max_iterations까지 알고리즘 수행\n",
        "\n"
      ],
      "metadata": {
        "id": "_Ia6ZH6BcIu6"
      },
      "execution_count": null,
      "outputs": []
    },
    {
      "cell_type": "code",
      "source": [
        "# cluster 수 (k) 및 clueter centers 초기화 (5 points)\n",
        "# cluster 수는 3개로 설정\n",
        "# 생성할 2차원 데이터 분포의 centers는 자유롭게 설정\n",
        "# (예, (1, 1), (9, 1), (5, 5))\n",
        "k=3\n",
        "center_1 =\n",
        "center_2 =\n",
        "center_3 =\n",
        "\n",
        "\n",
        "# 설정한 center 중심으로 Gaussian 분포를 따르는 데이터 생성 (4 points)\n",
        "# np.random.randn 활용\n",
        "# 각 cluster 별 100개씩 생성\n",
        "cluster_1 =\n",
        "cluster_2 =\n",
        "cluster_3 =\n",
        "\n",
        "\n",
        "# 생성한 데이터를 모두 합쳐서 하나의 형태로 변형 (1 points)\n",
        "data =\n",
        "\n",
        "\n",
        "# 구현한 k-means 알고리즘 적용\n",
        "k_means = K_Means(k)\n",
        "k_means.fit(data)\n",
        "\n",
        "\n",
        "# clustering 결과 시각화 (5 points)\n",
        "\n"
      ],
      "metadata": {
        "id": "pQYMgNxhcIsr"
      },
      "execution_count": null,
      "outputs": []
    },
    {
      "cell_type": "markdown",
      "source": [
        "## 2. K-means clustering with scikit-learn (10 points)"
      ],
      "metadata": {
        "id": "YLdojFPD6JhY"
      }
    },
    {
      "cell_type": "code",
      "source": [
        "from sklearn.cluster import KMeans\n",
        "\n",
        "\n",
        "# scikit-learn을 통한 확인 (5 points)\n",
        "# data는 이전에 설정한 데이터와 동일한 데이터 활용\n",
        "# https://scikit-learn.org/stable/modules/generated/sklearn.cluster.KMeans.html\n",
        "# 링크 참조하여 작성\n",
        "kmeans =\n",
        "\n",
        "# clustering 결과 시각화 (5 points)\n",
        "\n"
      ],
      "metadata": {
        "id": "larVBGeNcIqg"
      },
      "execution_count": null,
      "outputs": []
    }
  ]
}